{
 "cells": [
  {
   "cell_type": "markdown",
   "id": "8519e24f",
   "metadata": {},
   "source": [
    "# This notebook contains code"
   ]
  },
  {
   "cell_type": "code",
   "execution_count": null,
   "id": "6a1f3c65",
   "metadata": {
    "vscode": {
     "languageId": "plaintext"
    }
   },
   "outputs": [],
   "source": []
  }
 ],
 "metadata": {
  "language_info": {
   "name": "python"
  }
 },
 "nbformat": 4,
 "nbformat_minor": 5
}
